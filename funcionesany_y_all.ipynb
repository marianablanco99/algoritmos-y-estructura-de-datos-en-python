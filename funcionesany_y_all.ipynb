{
  "nbformat": 4,
  "nbformat_minor": 0,
  "metadata": {
    "colab": {
      "name": "funcionesany y all.ipynb",
      "provenance": []
    },
    "kernelspec": {
      "name": "python3",
      "display_name": "Python 3"
    },
    "language_info": {
      "name": "python"
    }
  },
  "cells": [
    {
      "cell_type": "code",
      "metadata": {
        "colab": {
          "base_uri": "https://localhost:8080/"
        },
        "id": "oFpQiysFHzBx",
        "outputId": "669d196a-23f5-4a43-8e17-0a0a48dabbee"
      },
      "source": [
        "lista_valores = [0,1,0]\n",
        "all(lista_valores)"
      ],
      "execution_count": 3,
      "outputs": [
        {
          "output_type": "execute_result",
          "data": {
            "text/plain": [
              "False"
            ]
          },
          "metadata": {
            "tags": []
          },
          "execution_count": 3
        }
      ]
    },
    {
      "cell_type": "code",
      "metadata": {
        "colab": {
          "base_uri": "https://localhost:8080/"
        },
        "id": "vvqc567mNYpa",
        "outputId": "73cefde5-2947-4d69-dbc1-050bd1a9f963"
      },
      "source": [
        "all([1,0,3,4,5])\n"
      ],
      "execution_count": 5,
      "outputs": [
        {
          "output_type": "execute_result",
          "data": {
            "text/plain": [
              "False"
            ]
          },
          "metadata": {
            "tags": []
          },
          "execution_count": 5
        }
      ]
    },
    {
      "cell_type": "code",
      "metadata": {
        "colab": {
          "base_uri": "https://localhost:8080/"
        },
        "id": "EYkzNJhxNpbF",
        "outputId": "89532df5-3d89-4730-dcfa-43941106b8b5"
      },
      "source": [
        "lista_strings = (\"A\", \" \", \"C\",\" \")\n",
        "any(lista_strings)"
      ],
      "execution_count": 10,
      "outputs": [
        {
          "output_type": "execute_result",
          "data": {
            "text/plain": [
              "True"
            ]
          },
          "metadata": {
            "tags": []
          },
          "execution_count": 10
        }
      ]
    },
    {
      "cell_type": "code",
      "metadata": {
        "colab": {
          "base_uri": "https://localhost:8080/"
        },
        "id": "-c403dBjOEun",
        "outputId": "be9208fe-ea2c-43ad-d9c9-e9bdf51822c6"
      },
      "source": [
        "print(2 == 2 or 3 == 4 or 5 == 1)"
      ],
      "execution_count": 12,
      "outputs": [
        {
          "output_type": "stream",
          "text": [
            "True\n"
          ],
          "name": "stdout"
        }
      ]
    },
    {
      "cell_type": "code",
      "metadata": {
        "colab": {
          "base_uri": "https://localhost:8080/"
        },
        "id": "z65KfRfMOac3",
        "outputId": "a64be234-994c-404b-d580-7e4cff199eb5"
      },
      "source": [
        "print(2==2 and 3==3 and 6==6)"
      ],
      "execution_count": 16,
      "outputs": [
        {
          "output_type": "stream",
          "text": [
            "True\n"
          ],
          "name": "stdout"
        }
      ]
    },
    {
      "cell_type": "code",
      "metadata": {
        "colab": {
          "base_uri": "https://localhost:8080/"
        },
        "id": "JJCxJiHmPF_E",
        "outputId": "12c67252-0bba-4b5a-f6c9-2439347efc4d"
      },
      "source": [
        "lista = [False, False, False, False]\n",
        "any(lista)"
      ],
      "execution_count": 18,
      "outputs": [
        {
          "output_type": "execute_result",
          "data": {
            "text/plain": [
              "False"
            ]
          },
          "metadata": {
            "tags": []
          },
          "execution_count": 18
        }
      ]
    },
    {
      "cell_type": "code",
      "metadata": {
        "id": "3ipR0wB2Pp93"
      },
      "source": [
        "old_list = [2,1,3,8,10,11,13]\n",
        "\n",
        "list_modulo_dos = list(map(lambda x: x%2 == 0, old_list))"
      ],
      "execution_count": 20,
      "outputs": []
    },
    {
      "cell_type": "code",
      "metadata": {
        "colab": {
          "base_uri": "https://localhost:8080/"
        },
        "id": "WZ0sjXvtQV-u",
        "outputId": "c1857b77-17ac-48d3-84cb-04ff49bc843f"
      },
      "source": [
        "any(list_modulo_dos)"
      ],
      "execution_count": 22,
      "outputs": [
        {
          "output_type": "execute_result",
          "data": {
            "text/plain": [
              "True"
            ]
          },
          "metadata": {
            "tags": []
          },
          "execution_count": 22
        }
      ]
    },
    {
      "cell_type": "code",
      "metadata": {
        "id": "ho-9IdPiQbim"
      },
      "source": [
        ""
      ],
      "execution_count": null,
      "outputs": []
    }
  ]
}