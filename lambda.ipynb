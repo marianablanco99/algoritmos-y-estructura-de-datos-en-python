{
  "nbformat": 4,
  "nbformat_minor": 0,
  "metadata": {
    "colab": {
      "name": "lambda.ipynb",
      "provenance": []
    },
    "kernelspec": {
      "name": "python3",
      "display_name": "Python 3"
    },
    "language_info": {
      "name": "python"
    }
  },
  "cells": [
    {
      "cell_type": "code",
      "metadata": {
        "id": "w8NhRyZQSzJg"
      },
      "source": [
        "def modulo2(x):\n",
        "  if x % 2 !=0:\n",
        "    return True\n",
        "  else:\n",
        "      False\n"
      ],
      "execution_count": 2,
      "outputs": []
    },
    {
      "cell_type": "code",
      "metadata": {
        "colab": {
          "base_uri": "https://localhost:8080/"
        },
        "id": "PvWiju6HTMfX",
        "outputId": "b63071a1-0742-43fb-851c-dddff6461704"
      },
      "source": [
        "modulo2(3)\n"
      ],
      "execution_count": 3,
      "outputs": [
        {
          "output_type": "execute_result",
          "data": {
            "text/plain": [
              "True"
            ]
          },
          "metadata": {
            "tags": []
          },
          "execution_count": 3
        }
      ]
    },
    {
      "cell_type": "code",
      "metadata": {
        "id": "a80TYj2RTQgg"
      },
      "source": [
        "modulo_par =lambda numero : numero %2 != 0\n"
      ],
      "execution_count": 5,
      "outputs": []
    },
    {
      "cell_type": "code",
      "metadata": {
        "colab": {
          "base_uri": "https://localhost:8080/"
        },
        "id": "hjCrE86hTe2O",
        "outputId": "49a0e98e-99ec-4eae-8539-0b8093316bd5"
      },
      "source": [
        "modulo_par(5)"
      ],
      "execution_count": 6,
      "outputs": [
        {
          "output_type": "execute_result",
          "data": {
            "text/plain": [
              "True"
            ]
          },
          "metadata": {
            "tags": []
          },
          "execution_count": 6
        }
      ]
    },
    {
      "cell_type": "code",
      "metadata": {
        "id": "xgNKhmMyTiUz"
      },
      "source": [
        "suma = lambda x,y : x+y"
      ],
      "execution_count": 7,
      "outputs": []
    },
    {
      "cell_type": "code",
      "metadata": {
        "colab": {
          "base_uri": "https://localhost:8080/"
        },
        "id": "tF2KsjuLTzFd",
        "outputId": "f9ec5efa-7d01-477c-d133-3f373ad88ed7"
      },
      "source": [
        "suma(4,5)"
      ],
      "execution_count": 8,
      "outputs": [
        {
          "output_type": "execute_result",
          "data": {
            "text/plain": [
              "9"
            ]
          },
          "metadata": {
            "tags": []
          },
          "execution_count": 8
        }
      ]
    },
    {
      "cell_type": "code",
      "metadata": {
        "colab": {
          "base_uri": "https://localhost:8080/"
        },
        "id": "30Ufm-TNUNZx",
        "outputId": "6455f4bc-c872-4d9e-e19e-e85010cc93f4"
      },
      "source": [
        "type(modulo_par)"
      ],
      "execution_count": 9,
      "outputs": [
        {
          "output_type": "execute_result",
          "data": {
            "text/plain": [
              "function"
            ]
          },
          "metadata": {
            "tags": []
          },
          "execution_count": 9
        }
      ]
    },
    {
      "cell_type": "code",
      "metadata": {
        "colab": {
          "base_uri": "https://localhost:8080/"
        },
        "id": "FEdcEtuUUQLs",
        "outputId": "d2d200e5-d408-4a31-bd77-46f849883bb9"
      },
      "source": [
        "type(modulo2)"
      ],
      "execution_count": 10,
      "outputs": [
        {
          "output_type": "execute_result",
          "data": {
            "text/plain": [
              "function"
            ]
          },
          "metadata": {
            "tags": []
          },
          "execution_count": 10
        }
      ]
    },
    {
      "cell_type": "code",
      "metadata": {
        "id": "JMGxJPdoUTZ3"
      },
      "source": [
        "funcion_cuadrad= lambda x: True if x**2 > 100 else False"
      ],
      "execution_count": 15,
      "outputs": []
    },
    {
      "cell_type": "code",
      "metadata": {
        "colab": {
          "base_uri": "https://localhost:8080/"
        },
        "id": "MDxTELbbUqYA",
        "outputId": "1029ed4e-ef06-41ef-cbdb-d1b4343d3a9c"
      },
      "source": [
        "funcion_cuadrad(11)"
      ],
      "execution_count": 16,
      "outputs": [
        {
          "output_type": "execute_result",
          "data": {
            "text/plain": [
              "True"
            ]
          },
          "metadata": {
            "tags": []
          },
          "execution_count": 16
        }
      ]
    },
    {
      "cell_type": "code",
      "metadata": {
        "id": "adL4FFMOU0Gw"
      },
      "source": [
        "lista_compleja = [1,2,3,4,5,6,7,8]\n",
        "\n",
        "lista_anidada = filter(modulo_par,lista_compleja)"
      ],
      "execution_count": 17,
      "outputs": []
    },
    {
      "cell_type": "code",
      "metadata": {
        "colab": {
          "base_uri": "https://localhost:8080/"
        },
        "id": "Yc-PCg6sVXza",
        "outputId": "d3643e28-6a03-41b3-9183-60fac32bc123"
      },
      "source": [
        "list(lista_anidada)"
      ],
      "execution_count": 19,
      "outputs": [
        {
          "output_type": "execute_result",
          "data": {
            "text/plain": [
              "[1, 3, 5, 7]"
            ]
          },
          "metadata": {
            "tags": []
          },
          "execution_count": 19
        }
      ]
    },
    {
      "cell_type": "code",
      "metadata": {
        "colab": {
          "base_uri": "https://localhost:8080/"
        },
        "id": "S1YPbunOVpQV",
        "outputId": "85e2900b-b49e-4e5a-83e1-510c163ef371"
      },
      "source": [
        "help(filter)"
      ],
      "execution_count": 20,
      "outputs": [
        {
          "output_type": "stream",
          "text": [
            "Help on class filter in module builtins:\n",
            "\n",
            "class filter(object)\n",
            " |  filter(function or None, iterable) --> filter object\n",
            " |  \n",
            " |  Return an iterator yielding those items of iterable for which function(item)\n",
            " |  is true. If function is None, return the items that are true.\n",
            " |  \n",
            " |  Methods defined here:\n",
            " |  \n",
            " |  __getattribute__(self, name, /)\n",
            " |      Return getattr(self, name).\n",
            " |  \n",
            " |  __iter__(self, /)\n",
            " |      Implement iter(self).\n",
            " |  \n",
            " |  __next__(self, /)\n",
            " |      Implement next(self).\n",
            " |  \n",
            " |  __reduce__(...)\n",
            " |      Return state information for pickling.\n",
            " |  \n",
            " |  ----------------------------------------------------------------------\n",
            " |  Static methods defined here:\n",
            " |  \n",
            " |  __new__(*args, **kwargs) from builtins.type\n",
            " |      Create and return a new object.  See help(type) for accurate signature.\n",
            "\n"
          ],
          "name": "stdout"
        }
      ]
    },
    {
      "cell_type": "code",
      "metadata": {
        "id": "MLXyCUX2WoRm"
      },
      "source": [
        "lista_compleja_2=(1,2,3,4,5,[1,2,3,4])\n",
        "\n",
        "lista_anidada_extraccion = filter(lambda x: x if type (x) == list else False, lista_compleja_2)\n"
      ],
      "execution_count": 23,
      "outputs": []
    },
    {
      "cell_type": "code",
      "metadata": {
        "colab": {
          "base_uri": "https://localhost:8080/"
        },
        "id": "spxrPVLIXLuq",
        "outputId": "c75d6ffd-2387-45e2-9ad1-966b2d4780d6"
      },
      "source": [
        "list(lista_anidada_extraccion)"
      ],
      "execution_count": 24,
      "outputs": [
        {
          "output_type": "execute_result",
          "data": {
            "text/plain": [
              "[[1, 2, 3, 4]]"
            ]
          },
          "metadata": {
            "tags": []
          },
          "execution_count": 24
        }
      ]
    },
    {
      "cell_type": "code",
      "metadata": {
        "id": "ZUJYywCvYgYr"
      },
      "source": [
        "a = [(1,2), (3,4), (5,6)]\n",
        "\n",
        "b= map(lambda x:x[0]+x[1],a)\n"
      ],
      "execution_count": 25,
      "outputs": []
    },
    {
      "cell_type": "code",
      "metadata": {
        "colab": {
          "base_uri": "https://localhost:8080/"
        },
        "id": "WCKtjjIUY2og",
        "outputId": "b02f8163-33aa-4de2-cfe7-c5ee8a3ccbe3"
      },
      "source": [
        "list(b)"
      ],
      "execution_count": 26,
      "outputs": [
        {
          "output_type": "execute_result",
          "data": {
            "text/plain": [
              "[3, 7, 11]"
            ]
          },
          "metadata": {
            "tags": []
          },
          "execution_count": 26
        }
      ]
    },
    {
      "cell_type": "code",
      "metadata": {
        "id": "Z-lkqmimY55J"
      },
      "source": [
        "frutas=[\"manzana\",\"naranja\",\"platano\",\"pera\"]\n",
        "\n",
        "map_object = map(lambda x: True if x[0] == \"p\" else False, frutas)"
      ],
      "execution_count": 27,
      "outputs": []
    },
    {
      "cell_type": "code",
      "metadata": {
        "colab": {
          "base_uri": "https://localhost:8080/"
        },
        "id": "wGJSFHSHZoLQ",
        "outputId": "a81342fe-afdc-4b35-b560-4691756f0a26"
      },
      "source": [
        "list(map_object)"
      ],
      "execution_count": 28,
      "outputs": [
        {
          "output_type": "execute_result",
          "data": {
            "text/plain": [
              "[False, False, True, True]"
            ]
          },
          "metadata": {
            "tags": []
          },
          "execution_count": 28
        }
      ]
    },
    {
      "cell_type": "code",
      "metadata": {
        "id": "5T5jYnLQZycY"
      },
      "source": [
        "from functools import reduce"
      ],
      "execution_count": 29,
      "outputs": []
    },
    {
      "cell_type": "code",
      "metadata": {
        "colab": {
          "base_uri": "https://localhost:8080/"
        },
        "id": "cjaFXzzCaP9p",
        "outputId": "adb96838-183e-4391-9938-d8dd33f30677"
      },
      "source": [
        "lista =[2,4,3,5,1,7,8]\n",
        "reduce(lambda a,b: a if a > b else b, lista)"
      ],
      "execution_count": 30,
      "outputs": [
        {
          "output_type": "execute_result",
          "data": {
            "text/plain": [
              "8"
            ]
          },
          "metadata": {
            "tags": []
          },
          "execution_count": 30
        }
      ]
    }
  ]
}