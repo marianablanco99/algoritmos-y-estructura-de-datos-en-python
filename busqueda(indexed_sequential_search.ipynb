{
  "nbformat": 4,
  "nbformat_minor": 0,
  "metadata": {
    "colab": {
      "name": "busqueda(indexed sequential search.ipynb",
      "provenance": []
    },
    "kernelspec": {
      "name": "python3",
      "display_name": "Python 3"
    },
    "language_info": {
      "name": "python"
    }
  },
  "cells": [
    {
      "cell_type": "code",
      "metadata": {
        "id": "gowmVrPLgDaj"
      },
      "source": [
        "def indexSequentialSearch(items,value,group_division):\n",
        "\n",
        "  elements = [0] * 20\n",
        "\n",
        "  indices = [0] * 20\n",
        "\n",
        "  i,j,index,end = 0,0,0,0\n",
        "\n",
        "  \n",
        "\n",
        "  flag = 0\n",
        "\n",
        "\n",
        "\n",
        "  for i in range(0,len(items),group_division):\n",
        "\n",
        "    elements[index]= items[i]\n",
        "\n",
        "    indices[index] = i \n",
        "\n",
        "    index += 1\n",
        "    print(\"elementos:\",elements)\n",
        "    print(\"indices:\",indices)\n",
        "\n",
        "\n",
        "\n",
        "\n",
        "  if value < elements[0]:\n",
        "\n",
        "    print('No se encuentra el valor')\n",
        "\n",
        "    return exit(0)\n",
        "\n",
        "  else:\n",
        "\n",
        "    for i in range(0, index + 1):\n",
        "\n",
        "      if value <= elements[i]:\n",
        "\n",
        "        start = indices[i-1]\n",
        "\n",
        "        end = indices[i]\n",
        "\n",
        "        flag = 1\n",
        "\n",
        "        break\n",
        "\n",
        "  \n",
        "\n",
        "  if flag == 0:\n",
        "\n",
        "    start = indices[i-1]\n",
        "    print(\"stars:\",stars)\n",
        "\n",
        "    end = len(items)\n",
        "    print(\"end:\",end)\n",
        "\n",
        "\n",
        "\n",
        "  for i in range(start,end+1):\n",
        "\n",
        "    if value == items[i]:\n",
        "\n",
        "      j = 1\n",
        "\n",
        "      break\n",
        "\n",
        "  \n",
        "\n",
        "  if j == 1:\n",
        "\n",
        "    print('Mi valor fue encontrado en la posiición', i)\n",
        "\n",
        "  else:\n",
        "\n",
        "    print('No se encuentra')"
      ],
      "execution_count": 11,
      "outputs": []
    },
    {
      "cell_type": "code",
      "metadata": {
        "colab": {
          "base_uri": "https://localhost:8080/"
        },
        "id": "QGxL41LygXPL",
        "outputId": "a2e1e2e0-7bda-4afa-fa49-84250a0123f9"
      },
      "source": [
        "items = [12,15,17,21,28,36,57,81,99]\n",
        "indexSequentialSearch(items,2,15)\n",
        "                                  "
      ],
      "execution_count": 12,
      "outputs": [
        {
          "output_type": "stream",
          "text": [
            "elementos: [12, 0, 0, 0, 0, 0, 0, 0, 0, 0, 0, 0, 0, 0, 0, 0, 0, 0, 0, 0]\n",
            "indices: [0, 0, 0, 0, 0, 0, 0, 0, 0, 0, 0, 0, 0, 0, 0, 0, 0, 0, 0, 0]\n",
            "No se encuentra el valor\n"
          ],
          "name": "stdout"
        }
      ]
    },
    {
      "cell_type": "code",
      "metadata": {
        "id": "jKK-mrGehhtF"
      },
      "source": [
        ""
      ],
      "execution_count": null,
      "outputs": []
    },
    {
      "cell_type": "markdown",
      "metadata": {
        "id": "7d5W_z8ujSLw"
      },
      "source": [
        "tema 4 exhaustividad\n"
      ]
    },
    {
      "cell_type": "markdown",
      "metadata": {
        "id": "eLJuo9r0lBG2"
      },
      "source": [
        "¿que es la exploracion exhaustiva?\n",
        "muchos problemas de optimizacion solo pueden resolverse de manera exacta explorando todas las posibles combinaciones de elementos y tratando de encontrar aquellas que sean solucion, eligiendo entre ellas una cualquiera o aquella que optimice una determinada funcion objetivo.\n",
        "ciertos problemas admiten estrategias de seleccion heuristicas"
      ]
    },
    {
      "cell_type": "code",
      "metadata": {
        "id": "0_ozKGRcjUHB"
      },
      "source": [
        ""
      ],
      "execution_count": null,
      "outputs": []
    }
  ]
}