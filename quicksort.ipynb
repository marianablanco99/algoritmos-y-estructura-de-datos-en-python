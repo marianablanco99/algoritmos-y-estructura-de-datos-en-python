{
  "nbformat": 4,
  "nbformat_minor": 0,
  "metadata": {
    "colab": {
      "name": "quicksort",
      "provenance": []
    },
    "kernelspec": {
      "name": "python3",
      "display_name": "Python 3"
    },
    "language_info": {
      "name": "python"
    }
  },
  "cells": [
    {
      "cell_type": "code",
      "metadata": {
        "id": "m4Qms0tAKpHn"
      },
      "source": [
        "def quicksort(items, low,high):\n",
        "\n",
        "  if low < high:\n",
        "\n",
        "    p_index = particion(items,low,high)\n",
        "\n",
        "    quicksort(items, low, p_index- 1) #### Corre por la izquuerda (menores al pivote)\n",
        "\n",
        "    quicksort(items, p_index+1, high) ### Corre por la derecha (mayores al pivote)\n",
        "\n",
        "\n",
        "\n",
        "def particion(items, low, high):\n",
        "\n",
        "  pivote = items[high]\n",
        "\n",
        "  i = low \n",
        "\n",
        "  for j in range(low, high):\n",
        "\n",
        "    if items[j] < pivote:\n",
        "\n",
        "      items[i], items[j] = items[j],items[i]\n",
        "\n",
        "      i += 1\n",
        "\n",
        "  pivot_index = i\n",
        "\n",
        "  items[pivot_index], items[high] = items[high], items[pivot_index]\n",
        "\n",
        "  return pivot_index\n",
        "\n",
        "\n",
        "\n",
        "\n",
        "\n",
        "def test_quicksort():\n",
        "\n",
        "  test_list = [9,5,3,6,1,0,7,8,4,2]\n",
        "\n",
        "  \n",
        "\n",
        "  high = len(list_test) - 1 \n",
        "\n",
        "  print(quicksort(lista_test, low, high))\n",
        "  print(test_list)"
      ],
      "execution_count": 35,
      "outputs": []
    },
    {
      "cell_type": "code",
      "metadata": {
        "id": "t0AU4h0ULOxh"
      },
      "source": [
        ""
      ],
      "execution_count": null,
      "outputs": []
    },
    {
      "cell_type": "code",
      "metadata": {
        "colab": {
          "base_uri": "https://localhost:8080/"
        },
        "id": "rIOJgO5VNkLO",
        "outputId": "066f6c9e-7b24-4a36-f7c4-54322f3e0ca1"
      },
      "source": [
        "def quicksort(items, low,high):\n",
        "\n",
        "  if low < high:\n",
        "\n",
        "    p_index = particion(items,low,high)\n",
        "\n",
        "    quicksort(items, low, p_index-1) #### Corre por la izquuerda (menores al pivote)\n",
        "\n",
        "    quicksort(items, p_index+1, high) ### Corre por la derecha (mayores al pivote)\n",
        "\n",
        "\n",
        "\n",
        "def particion(items, low, high):\n",
        "\n",
        "  pivote = items[high]\n",
        "\n",
        "  i = low \n",
        "\n",
        "  for j in range(low, high):\n",
        "\n",
        "    if items[j] < pivote:\n",
        "\n",
        "      items[i], items[j] = items[j],items[i]\n",
        "\n",
        "      i += 1\n",
        "\n",
        "  pivot_index = i\n",
        "\n",
        "  items[pivot_index], items[high] = items[high], items[pivot_index]\n",
        "\n",
        "  return pivot_index\n",
        "\n",
        "\n",
        "\n",
        "def test_quicksort():\n",
        "\n",
        "  test_list = [9,5,3,6,1,0,7,8,4,2]\n",
        "\n",
        "  high = len(test_list)-1 \n",
        "\n",
        "  print(test_list)\n",
        "\n",
        "  quicksort (test_list, low, high)\n",
        "\n",
        "  print(\"lista ordenada\")\n",
        "\n",
        "  print(test_list)\n",
        "\n",
        "\n",
        "\n",
        "\n",
        "test_quicksort()"
      ],
      "execution_count": 44,
      "outputs": [
        {
          "output_type": "stream",
          "text": [
            "[9, 5, 3, 6, 1, 0, 7, 8, 4, 2]\n",
            "lista ordenada\n",
            "[0, 1, 2, 3, 4, 5, 6, 7, 8, 9]\n"
          ],
          "name": "stdout"
        }
      ]
    },
    {
      "cell_type": "code",
      "metadata": {
        "colab": {
          "base_uri": "https://localhost:8080/",
          "height": 129
        },
        "id": "ynnfXou4RKW5",
        "outputId": "c51fbdfa-2d28-4e8f-e149-a51df6eb8087"
      },
      "source": [
        "def particion(items, low, high):\n",
        "  pivote = items(high)\n",
        "  print(\"pivote\",pivote)\n",
        "  i = low\n",
        "  for j in range(low,high) :\n",
        "    print(\"indice j:\", j)\n",
        "    if items(j) < pivote:\n",
        "      items[i], items[j] = items[j],items[i]\n",
        "      print(\"valores cambiados:\", items[i],items[j])\n",
        "      i += 1\n",
        "pivot_index = i\n",
        "print(\"pivot_index\", pivot_index)\n",
        "items(pivot_index), items(high) = items(high), items(pivot_index)\n",
        "return pivot_index\n",
        "\n",
        "  "
      ],
      "execution_count": 52,
      "outputs": [
        {
          "output_type": "error",
          "ename": "SyntaxError",
          "evalue": "ignored",
          "traceback": [
            "\u001b[0;36m  File \u001b[0;32m\"<ipython-input-52-ae9789c7a769>\"\u001b[0;36m, line \u001b[0;32m13\u001b[0m\n\u001b[0;31m    items(pivot_index), items(high) = items(high), items(pivot_index)\u001b[0m\n\u001b[0m                                                                     ^\u001b[0m\n\u001b[0;31mSyntaxError\u001b[0m\u001b[0;31m:\u001b[0m can't assign to function call\n"
          ]
        }
      ]
    },
    {
      "cell_type": "code",
      "metadata": {
        "colab": {
          "base_uri": "https://localhost:8080/"
        },
        "id": "pjjpfJWsN5GQ",
        "outputId": "1e442648-c9b1-4ba7-b715-76c06f058e1c"
      },
      "source": [
        "lista_test = [9,5,3,6,1,0,7,8,4,2]\n",
        "low = 0\n",
        "high = len(lista_test) - 1\n",
        "\n",
        "particion(lista_test, low, high)"
      ],
      "execution_count": 50,
      "outputs": [
        {
          "output_type": "execute_result",
          "data": {
            "text/plain": [
              "2"
            ]
          },
          "metadata": {
            "tags": []
          },
          "execution_count": 50
        }
      ]
    }
  ]
}