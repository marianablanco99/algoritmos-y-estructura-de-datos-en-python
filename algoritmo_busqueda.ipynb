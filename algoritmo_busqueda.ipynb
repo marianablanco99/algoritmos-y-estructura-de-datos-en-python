{
  "nbformat": 4,
  "nbformat_minor": 0,
  "metadata": {
    "colab": {
      "name": "algoritmo busqueda.ipynb",
      "provenance": []
    },
    "kernelspec": {
      "name": "python3",
      "display_name": "Python 3"
    },
    "language_info": {
      "name": "python"
    }
  },
  "cells": [
    {
      "cell_type": "code",
      "metadata": {
        "id": "8aCdmYFUQ6hI"
      },
      "source": [
        "def linearSearch(items, value):\n",
        "  for i in range(0, len(items)):\n",
        "    if items[i] == value:\n",
        "      return i\n",
        "  return -1\n",
        "    \n"
      ],
      "execution_count": 3,
      "outputs": []
    },
    {
      "cell_type": "code",
      "metadata": {
        "colab": {
          "base_uri": "https://localhost:8080/"
        },
        "id": "CLn_0FA_TJM4",
        "outputId": "8c0fd127-d65e-4dd6-86bd-a28ae03a4f52"
      },
      "source": [
        "items = [1,2,3,4,5]\n",
        "\n",
        "for i in range(0, len(items)-1):\n",
        "  print(items[i+1])"
      ],
      "execution_count": 5,
      "outputs": [
        {
          "output_type": "stream",
          "text": [
            "2\n",
            "3\n",
            "4\n",
            "5\n"
          ],
          "name": "stdout"
        }
      ]
    },
    {
      "cell_type": "code",
      "metadata": {
        "colab": {
          "base_uri": "https://localhost:8080/"
        },
        "id": "NXz98ebxUdXK",
        "outputId": "35ece2b4-24f4-4f81-95e7-db9f26ba3fc2"
      },
      "source": [
        "items = [2,5,6,34,25,4]\n",
        "linearSearch(items, 56)\n"
      ],
      "execution_count": 8,
      "outputs": [
        {
          "output_type": "execute_result",
          "data": {
            "text/plain": [
              "-1"
            ]
          },
          "metadata": {
            "tags": []
          },
          "execution_count": 8
        }
      ]
    },
    {
      "cell_type": "code",
      "metadata": {
        "colab": {
          "base_uri": "https://localhost:8080/"
        },
        "id": "i1wB5eNsTf-j",
        "outputId": "ce0d59f4-92d8-4890-ce75-dd73783a67b4"
      },
      "source": [
        "items[-1]"
      ],
      "execution_count": 6,
      "outputs": [
        {
          "output_type": "execute_result",
          "data": {
            "text/plain": [
              "5"
            ]
          },
          "metadata": {
            "tags": []
          },
          "execution_count": 6
        }
      ]
    },
    {
      "cell_type": "code",
      "metadata": {
        "id": "IgrHsmAUUPc0"
      },
      "source": [
        "def linearSearchMultiple(items, value):\n",
        "  for i in range(0, len(items)):\n",
        "    if items[i] == value:\n",
        "      print(i)"
      ],
      "execution_count": 12,
      "outputs": []
    },
    {
      "cell_type": "code",
      "metadata": {
        "colab": {
          "base_uri": "https://localhost:8080/"
        },
        "id": "G-_DoTcCVZo9",
        "outputId": "6275c4b7-e90b-4938-b8bf-334b2de83163"
      },
      "source": [
        "(linearSearchMultiple(items,34)"
      ],
      "execution_count": 13,
      "outputs": [
        {
          "output_type": "stream",
          "text": [
            "3\n"
          ],
          "name": "stdout"
        }
      ]
    },
    {
      "cell_type": "code",
      "metadata": {
        "id": "DeIVJOkgWPQY"
      },
      "source": [
        ""
      ],
      "execution_count": null,
      "outputs": []
    },
    {
      "cell_type": "markdown",
      "metadata": {
        "id": "dnvp2zvLaeTV"
      },
      "source": [
        "binary search"
      ]
    },
    {
      "cell_type": "code",
      "metadata": {
        "id": "sJikLaYlagqC"
      },
      "source": [
        "def binarySearch(items, value):\n",
        "  low = 0\n",
        "  high = len(items) -1\n",
        "\n",
        "  while low <= high:\n",
        "    print(\"valor low:\",low)\n",
        "    print(\"valor high\", high)\n",
        "    mid = (high + low)//2\n",
        "    print(\"valor mid\",mid)\n",
        "    if items[mid] < value:\n",
        "      low = mid + 1 \n",
        "    elif items[mid] > value:\n",
        "      high= mid - 1\n",
        "    else:\n",
        "      return mid\n",
        "  return -1"
      ],
      "execution_count": 20,
      "outputs": []
    },
    {
      "cell_type": "code",
      "metadata": {
        "colab": {
          "base_uri": "https://localhost:8080/"
        },
        "id": "LzfqQfX1cjgg",
        "outputId": "12a7574b-ffb2-4b16-f422-3ea32cdacf59"
      },
      "source": [
        "lista_=[2,4,6,6,16,24,36]\n",
        "binarySearch(lista_,6)"
      ],
      "execution_count": 25,
      "outputs": [
        {
          "output_type": "stream",
          "text": [
            "valor low: 0\n",
            "valor high 6\n",
            "valor mid 3\n"
          ],
          "name": "stdout"
        },
        {
          "output_type": "execute_result",
          "data": {
            "text/plain": [
              "3"
            ]
          },
          "metadata": {
            "tags": []
          },
          "execution_count": 25
        }
      ]
    },
    {
      "cell_type": "code",
      "metadata": {
        "colab": {
          "base_uri": "https://localhost:8080/",
          "height": 129
        },
        "id": "jQb5Sxy2c0gs",
        "outputId": "4346df0c-bcaf-47ef-8318-500adec46be1"
      },
      "source": [
        "def firstElement(items,value):\n",
        "\n",
        "  low = 0\n",
        "  high = len(items) -1\n",
        "  res = -1\n",
        "  while low <= high:\n",
        "    mid = (high + low) // 2\n",
        "  if items[mid] < value:\n",
        "      low = mid + 1 \n",
        "  elif items[mid] > value:\n",
        "      high= mid - 1\n",
        " else:\n",
        "      res =mid\n",
        "      high = mid - 1\n",
        "return res\n",
        "\n",
        "\n",
        "  \n",
        "\n",
        "\n",
        "def lasElement(items,value):\n",
        "    low = 0\n",
        "    high = len(items) - 1\n",
        "    res = -1\n",
        "    while low <= high:\n",
        "      mid = (high + low)//2\n",
        "      if items[mid] < value:\n",
        "      low = mid + 1 \n",
        "    elif items[mid] > value:\n",
        "      high= mid - 1\n",
        "    else:\n",
        "      res =mid\n",
        "      low = mid + 1\n",
        "return res "
      ],
      "execution_count": 44,
      "outputs": [
        {
          "output_type": "error",
          "ename": "IndentationError",
          "evalue": "ignored",
          "traceback": [
            "\u001b[0;36m  File \u001b[0;32m\"<ipython-input-44-37c37ffd42c3>\"\u001b[0;36m, line \u001b[0;32m12\u001b[0m\n\u001b[0;31m    else:\u001b[0m\n\u001b[0m         ^\u001b[0m\n\u001b[0;31mIndentationError\u001b[0m\u001b[0;31m:\u001b[0m unindent does not match any outer indentation level\n"
          ]
        }
      ]
    },
    {
      "cell_type": "code",
      "metadata": {
        "id": "mE5eBYeHk0-T"
      },
      "source": [
        "def firstElement(items, value):\n",
        "\n",
        "  low = 0\n",
        "\n",
        "  high = len(items) - 1\n",
        "\n",
        "  res = -1\n",
        "\n",
        "\n",
        "\n",
        "  while low <= high:\n",
        "\n",
        "    mid = (high + low)//2\n",
        "\n",
        "    if items[mid] < value:\n",
        "\n",
        "      low = mid + 1\n",
        "\n",
        "    elif items[mid] > value:\n",
        "\n",
        "      high = mid - 1\n",
        "\n",
        "    else:\n",
        "\n",
        "      res = mid\n",
        "\n",
        "      high = mid -1\n",
        "\n",
        "  return res\n",
        "\n",
        "\n",
        "\n",
        "\n",
        "def lastElement(items, value):\n",
        "\n",
        "  low = 0\n",
        "\n",
        "  high = len(items) - 1\n",
        "\n",
        "  res = -1\n",
        "\n",
        "\n",
        "\n",
        "  while low <= high:\n",
        "\n",
        "    mid = (high + low)//2\n",
        "\n",
        "    if items[mid] < value:\n",
        "\n",
        "      low = mid + 1\n",
        "\n",
        "    elif items[mid] > value:\n",
        "\n",
        "      high = mid - 1\n",
        "\n",
        "    else:\n",
        "\n",
        "      res = mid\n",
        "\n",
        "      low = mid + 1\n",
        "\n",
        "  return res"
      ],
      "execution_count": 45,
      "outputs": []
    },
    {
      "cell_type": "code",
      "metadata": {
        "colab": {
          "base_uri": "https://localhost:8080/"
        },
        "id": "Y_6ctsmIiPDJ",
        "outputId": "35db46d5-8e55-4667-9d25-145a28f4bf7f"
      },
      "source": [
        "items=[2,3,4,5,5,5,6,7,8,12]\n",
        "print(\"el primer elemento es:\",firstElement(items,5))\n",
        "print(\"el primer elemento es:\", lastElement(items,5))\n"
      ],
      "execution_count": 48,
      "outputs": [
        {
          "output_type": "stream",
          "text": [
            "el primer elemento es: 3\n",
            "el primer elemento es: 5\n"
          ],
          "name": "stdout"
        }
      ]
    }
  ]
}