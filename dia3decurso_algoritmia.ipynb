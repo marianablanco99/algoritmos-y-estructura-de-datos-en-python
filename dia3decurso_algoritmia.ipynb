{
  "nbformat": 4,
  "nbformat_minor": 0,
  "metadata": {
    "colab": {
      "name": "dia3decurso algoritmia.ipynb",
      "provenance": [],
      "collapsed_sections": []
    },
    "kernelspec": {
      "name": "python3",
      "display_name": "Python 3"
    },
    "language_info": {
      "name": "python"
    }
  },
  "cells": [
    {
      "cell_type": "code",
      "metadata": {
        "id": "Fx_KX6SNETtj"
      },
      "source": [
        ""
      ],
      "execution_count": null,
      "outputs": []
    },
    {
      "cell_type": "markdown",
      "metadata": {
        "id": "Yutg50fAON5D"
      },
      "source": [
        "#**analisis y complejidad de algoritmos**\n"
      ]
    },
    {
      "cell_type": "code",
      "metadata": {
        "colab": {
          "base_uri": "https://localhost:8080/"
        },
        "id": "Eu8C8wGaOVlA",
        "outputId": "26bab39d-7f57-495c-f94a-344462cc06ad"
      },
      "source": [
        "a = 5 #----------------1\n",
        "b = 6 #----------------1\n",
        "c = 10 #---------------1\n",
        "n=3\n",
        "for i in range(n):      #n\n",
        "  for j in range(n):    #n\n",
        "    x = i*i             #n*n\n",
        "    y = j*j              #n*n\n",
        "    z = i*j             #n*n\n",
        "  for k in range(n): #n\n",
        "    w = k*k   #n\n",
        "    z = 3*k    #n\n",
        "\n",
        "print(c)   #n\n",
        "#tiempo (n)= 3 + 3n^2 +2n + 1 =3n^2 + 2n + 4\n",
        "#termino dominante en notacion BIG O: o(n^2) \n"
      ],
      "execution_count": 5,
      "outputs": [
        {
          "output_type": "stream",
          "text": [
            "10\n"
          ],
          "name": "stdout"
        }
      ]
    },
    {
      "cell_type": "code",
      "metadata": {
        "id": "GgAadQKFQbGh"
      },
      "source": [
        ""
      ],
      "execution_count": null,
      "outputs": []
    },
    {
      "cell_type": "markdown",
      "metadata": {
        "id": "ECORNQOfTgOe"
      },
      "source": [
        "terminos dominantes"
      ]
    },
    {
      "cell_type": "code",
      "metadata": {
        "colab": {
          "base_uri": "https://localhost:8080/"
        },
        "id": "f4vRv_oMTl-O",
        "outputId": "f70cc3aa-6f95-4e98-8e91-b9097951f04d"
      },
      "source": [
        "#termino dominante o(1)\n",
        "\n",
        "a = 1\n",
        "b = 2\n",
        "c = 1\n",
        "\n",
        "if a < b:\n",
        "  print(\"ok\")\n",
        "\n",
        "else:\n",
        "  print(\"False\")\n",
        "\n",
        "#t(n)=5\n",
        "#termino dominante o(1)\n",
        "\n",
        "#for i in (2) : #notacion constante orden uno\n",
        "\n"
      ],
      "execution_count": 10,
      "outputs": [
        {
          "output_type": "stream",
          "text": [
            "ok\n"
          ],
          "name": "stdout"
        }
      ]
    },
    {
      "cell_type": "code",
      "metadata": {
        "colab": {
          "base_uri": "https://localhost:8080/"
        },
        "id": "KvKKivgTUDWm",
        "outputId": "12867384-a3d2-4fb1-ea29-e999a0c98400"
      },
      "source": [
        "#notacion dominante O(1)\n",
        "lista = [9,3,2,4,5,6]\n",
        "for i in range(len(lista)):\n",
        "  print(i)\n",
        "\n",
        "#r(n)= n+1\n",
        "#o(n)"
      ],
      "execution_count": 11,
      "outputs": [
        {
          "output_type": "stream",
          "text": [
            "0\n",
            "1\n",
            "2\n",
            "3\n",
            "4\n",
            "5\n"
          ],
          "name": "stdout"
        }
      ]
    },
    {
      "cell_type": "code",
      "metadata": {
        "colab": {
          "base_uri": "https://localhost:8080/"
        },
        "id": "tv8w2OG5U_v2",
        "outputId": "d40b7f0b-8ac0-4f51-e37c-6a40c5778f80"
      },
      "source": [
        "n = 10\n",
        "array_a = [1,2,3,4,5,6,7,8,9,10]\n",
        "array_b= [1,2,3,4,5,6,7,8,9,10]\n",
        "for i in range(len(array_a)):    \n",
        "  for j in range(len(array_b)):    \n",
        "    print(i)\n",
        "    print(j)\n",
        "\n",
        "  #t(n)= a*b + 1\n",
        "  #big o=a*b\n",
        "\n",
        "\n"
      ],
      "execution_count": 16,
      "outputs": [
        {
          "output_type": "stream",
          "text": [
            "0\n",
            "0\n",
            "0\n",
            "1\n",
            "0\n",
            "2\n",
            "0\n",
            "3\n",
            "0\n",
            "4\n",
            "0\n",
            "5\n",
            "0\n",
            "6\n",
            "0\n",
            "7\n",
            "0\n",
            "8\n",
            "0\n",
            "9\n",
            "1\n",
            "0\n",
            "1\n",
            "1\n",
            "1\n",
            "2\n",
            "1\n",
            "3\n",
            "1\n",
            "4\n",
            "1\n",
            "5\n",
            "1\n",
            "6\n",
            "1\n",
            "7\n",
            "1\n",
            "8\n",
            "1\n",
            "9\n",
            "2\n",
            "0\n",
            "2\n",
            "1\n",
            "2\n",
            "2\n",
            "2\n",
            "3\n",
            "2\n",
            "4\n",
            "2\n",
            "5\n",
            "2\n",
            "6\n",
            "2\n",
            "7\n",
            "2\n",
            "8\n",
            "2\n",
            "9\n",
            "3\n",
            "0\n",
            "3\n",
            "1\n",
            "3\n",
            "2\n",
            "3\n",
            "3\n",
            "3\n",
            "4\n",
            "3\n",
            "5\n",
            "3\n",
            "6\n",
            "3\n",
            "7\n",
            "3\n",
            "8\n",
            "3\n",
            "9\n",
            "4\n",
            "0\n",
            "4\n",
            "1\n",
            "4\n",
            "2\n",
            "4\n",
            "3\n",
            "4\n",
            "4\n",
            "4\n",
            "5\n",
            "4\n",
            "6\n",
            "4\n",
            "7\n",
            "4\n",
            "8\n",
            "4\n",
            "9\n",
            "5\n",
            "0\n",
            "5\n",
            "1\n",
            "5\n",
            "2\n",
            "5\n",
            "3\n",
            "5\n",
            "4\n",
            "5\n",
            "5\n",
            "5\n",
            "6\n",
            "5\n",
            "7\n",
            "5\n",
            "8\n",
            "5\n",
            "9\n",
            "6\n",
            "0\n",
            "6\n",
            "1\n",
            "6\n",
            "2\n",
            "6\n",
            "3\n",
            "6\n",
            "4\n",
            "6\n",
            "5\n",
            "6\n",
            "6\n",
            "6\n",
            "7\n",
            "6\n",
            "8\n",
            "6\n",
            "9\n",
            "7\n",
            "0\n",
            "7\n",
            "1\n",
            "7\n",
            "2\n",
            "7\n",
            "3\n",
            "7\n",
            "4\n",
            "7\n",
            "5\n",
            "7\n",
            "6\n",
            "7\n",
            "7\n",
            "7\n",
            "8\n",
            "7\n",
            "9\n",
            "8\n",
            "0\n",
            "8\n",
            "1\n",
            "8\n",
            "2\n",
            "8\n",
            "3\n",
            "8\n",
            "4\n",
            "8\n",
            "5\n",
            "8\n",
            "6\n",
            "8\n",
            "7\n",
            "8\n",
            "8\n",
            "8\n",
            "9\n",
            "9\n",
            "0\n",
            "9\n",
            "1\n",
            "9\n",
            "2\n",
            "9\n",
            "3\n",
            "9\n",
            "4\n",
            "9\n",
            "5\n",
            "9\n",
            "6\n",
            "9\n",
            "7\n",
            "9\n",
            "8\n",
            "9\n",
            "9\n"
          ],
          "name": "stdout"
        }
      ]
    },
    {
      "cell_type": "code",
      "metadata": {
        "id": "zgff_bf0aL-O"
      },
      "source": [
        "def lista_anidada(seq,num):\n",
        "  avg= len(seq)/float(num)\n",
        "  out=[]\n",
        "  last=0.0\n",
        "\n",
        "  while last < len(seq):\n",
        "    out.append(seq[int(last):int(last+avg)])\n",
        "    last +=avg\n",
        "    return out\n"
      ],
      "execution_count": 33,
      "outputs": []
    },
    {
      "cell_type": "code",
      "metadata": {
        "colab": {
          "base_uri": "https://localhost:8080/"
        },
        "id": "gaW_08DTWRcV",
        "outputId": "235fe8cb-6bb6-4ec7-e1b1-b3fa63e1a61b"
      },
      "source": [
        "import time \n",
        "\n",
        "\n",
        "\n",
        "inicio = time.time()\n",
        "lista_anidada_1 = lista_anidada(range(1000000000),10)\n",
        "for i in range(0,len(lista_anidada_1)):\n",
        "  for j in range(0,len(lista_anidada_1[0])):\n",
        "    if  lista_anidada_1[i][j] == 4:\n",
        "      print(\"el valor cuatro se encuentra\")\n",
        "\n",
        "fin = time.time()\n",
        "print(fin-inicio)\n",
        "#t(n)= 1+2 (A+B)\n",
        "#o (n)= o(a+a)"
      ],
      "execution_count": 40,
      "outputs": [
        {
          "output_type": "stream",
          "text": [
            "el valor cuatro se encuentra\n",
            "23.20872950553894\n"
          ],
          "name": "stdout"
        }
      ]
    },
    {
      "cell_type": "code",
      "metadata": {
        "colab": {
          "base_uri": "https://localhost:8080/",
          "height": 282
        },
        "id": "fHo31LmmZO3_",
        "outputId": "142ac4ad-8e78-456f-d749-b9711569607e"
      },
      "source": [
        "lista_time =[0.00016021728515625,\n",
        "0.003498077392578125,\n",
        "0.22388052940368652,\n",
        "2.160618782043457,\n",
        "23.20872950553894]\n",
        "\n",
        "import matplotlib.pyplot as plt\n",
        "plt.plot(lista_time)\n",
        "\n",
        "\n"
      ],
      "execution_count": 41,
      "outputs": [
        {
          "output_type": "execute_result",
          "data": {
            "text/plain": [
              "[<matplotlib.lines.Line2D at 0x7f55135945d0>]"
            ]
          },
          "metadata": {
            "tags": []
          },
          "execution_count": 41
        },
        {
          "output_type": "display_data",
          "data": {
            "image/png": "[encoded data removed]",
            "text/plain": [
              "<Figure size 432x288 with 1 Axes>"
            ]
          },
          "metadata": {
            "tags": [],
            "needs_background": "light"
          }
        }
      ]
    },
    {
      "cell_type": "code",
      "metadata": {
        "id": "Nao6jnTscSf3"
      },
      "source": [
        ""
      ],
      "execution_count": null,
      "outputs": []
    },
    {
      "cell_type": "markdown",
      "metadata": {
        "id": "ziE4IyiAccJT"
      },
      "source": [
        "**problema:se tiene una losta de datos desornedada requerimos encontrar el valor minimo de toda nuestra lista de datos.implemente una solucion que sea optima para asegurar que nuestros recursos satisfagan nuestra necesidad.**"
      ]
    },
    {
      "cell_type": "code",
      "metadata": {
        "id": "u3TEqU2Qc0mP"
      },
      "source": [
        "lista = [5,4,2,1,0]\n",
        "\n",
        "def findMin(alist):\n",
        "  minimo = alist[0]\n",
        "  for i in alist:\n",
        "    valor_minimo =True\n",
        "    for j in alist:\n",
        "      if i > j :\n",
        "        valor_minimo: False\n",
        "        if valor_minimo:\n",
        "          minimo = 1\n",
        "          return minimo\n",
        "  \n",
        "\n",
        "\n"
      ],
      "execution_count": 50,
      "outputs": []
    },
    {
      "cell_type": "code",
      "metadata": {
        "colab": {
          "base_uri": "https://localhost:8080/"
        },
        "id": "DfQ5Dj05fdbE",
        "outputId": "59f0a364-dbfd-4a6c-d92c-af3992f12a93"
      },
      "source": [
        "print(findMin(lista))"
      ],
      "execution_count": 51,
      "outputs": [
        {
          "output_type": "stream",
          "text": [
            "1\n"
          ],
          "name": "stdout"
        }
      ]
    },
    {
      "cell_type": "code",
      "metadata": {
        "id": "aRkGu2vjgA4Z"
      },
      "source": [
        ""
      ],
      "execution_count": null,
      "outputs": []
    }
  ]
}