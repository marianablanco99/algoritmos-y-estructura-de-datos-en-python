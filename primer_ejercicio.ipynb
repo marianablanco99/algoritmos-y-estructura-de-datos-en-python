{
  "nbformat": 4,
  "nbformat_minor": 0,
  "metadata": {
    "colab": {
      "name": "primer_ejercicio.ipynb",
      "provenance": []
    },
    "kernelspec": {
      "name": "python3",
      "display_name": "Python 3"
    },
    "language_info": {
      "name": "python"
    }
  },
  "cells": [
    {
      "cell_type": "code",
      "metadata": {
        "id": "1ARvX0PE6Cje"
      },
      "source": [
        ""
      ],
      "execution_count": null,
      "outputs": []
    },
    {
      "cell_type": "markdown",
      "metadata": {
        "id": "uom4ZKPu_i7_"
      },
      "source": [
        "\n",
        "\n",
        "> Bloque con sangría\n",
        "\n"
      ]
    },
    {
      "cell_type": "markdown",
      "metadata": {
        "id": "NVhYnwfOuiif"
      },
      "source": [
        "ejercicio 1: se tiene la siguiente lista de valores:\n",
        "lista_[1,2,3,4,5,6,6,[2,4,5,6,7,8,9],\"hola,45]\n",
        "necesitamos extraer de la lista anidada todos los valores que sean menores a 7 ya que son de vital importancia para generar un diccionario de datos\n",
        "conselo: use type para conocer el tipo de datos de los valores de la lista.\n"
      ]
    },
    {
      "cell_type": "code",
      "metadata": {
        "colab": {
          "base_uri": "https://localhost:8080/",
          "height": 129
        },
        "id": "TCrruzZ4_p5C",
        "outputId": "8d3d3f28-fca6-4d38-f81a-d17485c5803d"
      },
      "source": [
        "lista_= [1,2,3,4,5,6,6, [2,4,5,6,6,5,4,3,2,1,5,6,7,8,9], \"hola\", 45]\n",
        "\n",
        "def get_values_mix_list(lista):\n",
        "\n",
        "  for i in range(0,len(lista)):\n",
        "  if type (lista(i)) == list:\n",
        "    data_extraido = lista (i)\n",
        "    lista_menor_siete = []\n",
        "    for j in range(0,len(data_extraido)):\n",
        "      if data_extraido(j) < 7:\n",
        "        lista_menor_siete.append(data_extraido[j])\n",
        "\n",
        "\n",
        "\n",
        "\n",
        "\n",
        "return lista_menor_siete\n"
      ],
      "execution_count": null,
      "outputs": [
        {
          "output_type": "error",
          "ename": "IndentationError",
          "evalue": "ignored",
          "traceback": [
            "\u001b[0;36m  File \u001b[0;32m\"<ipython-input-12-75dbbcf3c09f>\"\u001b[0;36m, line \u001b[0;32m6\u001b[0m\n\u001b[0;31m    if type (lista(i)) == list:\u001b[0m\n\u001b[0m     ^\u001b[0m\n\u001b[0;31mIndentationError\u001b[0m\u001b[0;31m:\u001b[0m expected an indented block\n"
          ]
        }
      ]
    },
    {
      "cell_type": "code",
      "metadata": {
        "id": "JJbCJasIMu3z"
      },
      "source": [
        ""
      ],
      "execution_count": null,
      "outputs": []
    },
    {
      "cell_type": "markdown",
      "metadata": {
        "id": "Z-daNdSoMxTu"
      },
      "source": [
        "clase\n"
      ]
    },
    {
      "cell_type": "code",
      "metadata": {
        "id": "gO-w0vlhMx9w"
      },
      "source": [
        "def factorial(n):\n",
        "  if n == 0 or n == 1:\n",
        "    return 1\n",
        "  else:\n",
        "      return n * factorial (n-1)\n",
        "\n"
      ],
      "execution_count": null,
      "outputs": []
    },
    {
      "cell_type": "code",
      "metadata": {
        "id": "RhYvfV77Oaff",
        "colab": {
          "base_uri": "https://localhost:8080/"
        },
        "outputId": "d4a123c2-5917-45fa-cf49-da4a8595902d"
      },
      "source": [
        ""
      ],
      "execution_count": null,
      "outputs": [
        {
          "output_type": "execute_result",
          "data": {
            "text/plain": [
              "120"
            ]
          },
          "metadata": {
            "tags": []
          },
          "execution_count": 20
        }
      ]
    },
    {
      "cell_type": "markdown",
      "metadata": {
        "id": "FK3Iqdp361W5"
      },
      "source": [
        ""
      ]
    },
    {
      "cell_type": "markdown",
      "metadata": {
        "id": "V81OfWzV61c7"
      },
      "source": [
        ""
      ]
    },
    {
      "cell_type": "markdown",
      "metadata": {
        "id": "WtAoh3_w0xTV"
      },
      "source": [
        "ejercicio2: funcion para que los valores obtenidos en la lista pasen a formar parte de un diccionario que nos ayude a hacer consultas de los valores que se encuentran en esta estructura\n"
      ]
    },
    {
      "cell_type": "code",
      "metadata": {
        "id": "1NnMoRu_6346"
      },
      "source": [
        ""
      ],
      "execution_count": null,
      "outputs": []
    },
    {
      "cell_type": "code",
      "metadata": {
        "id": "l6Do-ij61YHj"
      },
      "source": [
        "diccionario_result = {0: 2, 1: 4, 2: 5, 3: 6, 4: 6, 5: 5, 6: 4, 7: 3, 8: 2, 10: 5, 11: 6}"
      ],
      "execution_count": 1,
      "outputs": []
    },
    {
      "cell_type": "code",
      "metadata": {
        "colab": {
          "base_uri": "https://localhost:8080/"
        },
        "id": "1RMs1r1t11eH",
        "outputId": "339a9881-ef62-44cf-b8bf-ddae0bd693f4"
      },
      "source": [
        "type(diccionario_result )"
      ],
      "execution_count": 2,
      "outputs": [
        {
          "output_type": "execute_result",
          "data": {
            "text/plain": [
              "dict"
            ]
          },
          "metadata": {
            "tags": []
          },
          "execution_count": 2
        }
      ]
    },
    {
      "cell_type": "code",
      "metadata": {
        "colab": {
          "base_uri": "https://localhost:8080/"
        },
        "id": "80PhFhz7CLwM",
        "outputId": "de6e5d2a-4c2e-4bbe-9ba3-c49e45f082a7"
      },
      "source": [
        "diccionario_result"
      ],
      "execution_count": 3,
      "outputs": [
        {
          "output_type": "execute_result",
          "data": {
            "text/plain": [
              "{0: 2, 1: 4, 2: 5, 3: 6, 4: 6, 5: 5, 6: 4, 7: 3, 8: 2, 10: 5, 11: 6}"
            ]
          },
          "metadata": {
            "tags": []
          },
          "execution_count": 3
        }
      ]
    },
    {
      "cell_type": "code",
      "metadata": {
        "colab": {
          "base_uri": "https://localhost:8080/"
        },
        "id": "zF89sBgtCSH-",
        "outputId": "49ccaca5-3210-4d09-bb9d-d5db2b17912e"
      },
      "source": [
        "diccionario_result.keys()"
      ],
      "execution_count": 4,
      "outputs": [
        {
          "output_type": "execute_result",
          "data": {
            "text/plain": [
              "dict_keys([0, 1, 2, 3, 4, 5, 6, 7, 8, 10, 11])"
            ]
          },
          "metadata": {
            "tags": []
          },
          "execution_count": 4
        }
      ]
    },
    {
      "cell_type": "code",
      "metadata": {
        "colab": {
          "base_uri": "https://localhost:8080/"
        },
        "id": "wU1BGhppCcy1",
        "outputId": "60e6cdfa-0e64-4c78-9762-37c68d5dc027"
      },
      "source": [
        "diccionario_result.values()"
      ],
      "execution_count": 5,
      "outputs": [
        {
          "output_type": "execute_result",
          "data": {
            "text/plain": [
              "dict_values([2, 4, 5, 6, 6, 5, 4, 3, 2, 5, 6])"
            ]
          },
          "metadata": {
            "tags": []
          },
          "execution_count": 5
        }
      ]
    },
    {
      "cell_type": "code",
      "metadata": {
        "colab": {
          "base_uri": "https://localhost:8080/"
        },
        "id": "_QdnPCiuCnUk",
        "outputId": "958fedf5-4a65-47ee-bca3-4e75fce04b2d"
      },
      "source": [
        "len(diccionario_result)"
      ],
      "execution_count": 6,
      "outputs": [
        {
          "output_type": "execute_result",
          "data": {
            "text/plain": [
              "11"
            ]
          },
          "metadata": {
            "tags": []
          },
          "execution_count": 6
        }
      ]
    },
    {
      "cell_type": "code",
      "metadata": {
        "colab": {
          "base_uri": "https://localhost:8080/"
        },
        "id": "CwKx_KjoCr31",
        "outputId": "1d1adbf6-4420-4394-e311-eaada2f027f8"
      },
      "source": [
        "for keys in diccionario_result.keys():\n",
        "  print(diccionario_result[keys])"
      ],
      "execution_count": 7,
      "outputs": [
        {
          "output_type": "stream",
          "text": [
            "2\n",
            "4\n",
            "5\n",
            "6\n",
            "6\n",
            "5\n",
            "4\n",
            "3\n",
            "2\n",
            "5\n",
            "6\n"
          ],
          "name": "stdout"
        }
      ]
    },
    {
      "cell_type": "markdown",
      "metadata": {
        "id": "1Rfd0pWyDIB_"
      },
      "source": [
        "ejercicio 3: se hizo una peticion http y se obtiene la siguiente informacion en un conjunto de lista y diccionario, necesito obtener cierta informacion de alto valor para realizar un modelo que nos ayude a identificar objetos en una imagen, obtenga los valores de la key\"object\" y almacenelos en una lista para su posterior analisis."
      ]
    }
  ]
}